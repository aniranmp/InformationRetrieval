{
 "cells": [
  {
   "cell_type": "markdown",
   "metadata": {},
   "source": [
    "<center><img src=\"Logo2.png\" align=\"center\" stlye=\"display: table-cell;\n",
    "    text-align: center;\n",
    "    vertical-align: middle;\"></center>"
   ]
  },
  {
   "cell_type": "markdown",
   "metadata": {},
   "source": [
    "<br>\n",
    "<br>\n",
    "<br>\n",
    "<br>"
   ]
  },
  {
   "cell_type": "markdown",
   "metadata": {},
   "source": [
    "<center><img src=\"ir.png\" align=\"center\"></center>"
   ]
  },
  {
   "cell_type": "markdown",
   "metadata": {},
   "source": [
    "<br><br><br><br><br><br>"
   ]
  },
  {
   "cell_type": "markdown",
   "metadata": {},
   "source": [
    "<center>\n",
    "\n",
    "<blockquote style=\"margin-left:290px;\" align=\"center\">\n",
    "<p><em>writer:</em></p>\n",
    "<blockquote>\n",
    "<h2> <strong>Aniran Mohammadpour</strong></h2>\n",
    "</blockquote>\n",
    "</blockquote>\n",
    "<blockquote style=\"margin-left:290px;\" align=\"center\">\n",
    "<p><em>Adviser:</em></p>\n",
    "<blockquote>\n",
    "<h3> Dr. Fatemeh Daneshfar</h3>\n",
    "</blockquote>\n",
    "</blockquote>\n",
    "\n",
    "<blockquote style=\"margin-left:290px;\" align=\"center\">\n",
    "<p><em>Data:</em></p>\n",
    "<blockquote>\n",
    "<h3 > 4/24/2021</h3>\n",
    "</blockquote>\n",
    "</blockquote>\n",
    "\n",
    "\n",
    "</center>"
   ]
  },
  {
   "cell_type": "markdown",
   "metadata": {},
   "source": [
    "<br><br><br><br><br><br><br><br><br>"
   ]
  },
  {
   "cell_type": "markdown",
   "metadata": {},
   "source": [
    "<center><img src=\"ir.jpg\"></center>"
   ]
  },
  {
   "cell_type": "markdown",
   "metadata": {},
   "source": [
    "# Positional Index Algorithm"
   ]
  },
  {
   "cell_type": "markdown",
   "metadata": {},
   "source": [
    "### Input"
   ]
  },
  {
   "cell_type": "markdown",
   "metadata": {},
   "source": [
    "<img src = \"2.11.jpg\">"
   ]
  },
  {
   "cell_type": "code",
   "execution_count": 37,
   "metadata": {},
   "outputs": [],
   "source": [
    "docFreq_1 = { \"word\" : \"to\" , \"frequency\" : 993427,\n",
    "                              \"data\" : \n",
    "                             [ { \"doc_id\" :  1 ,\n",
    "                                  \"count\" :  6 ,\n",
    "                                  \"pos\"   : [ 7, 18, 33, 72, 86, 231]\n",
    "                                },\n",
    "                                { \"doc_id\" :  2 ,\n",
    "                                  \"count\" :  5 ,\n",
    "                                  \"pos\"   : [ 1, 17, 74, 222, 255]\n",
    "                                },\n",
    "                                { \"doc_id\" :  4 ,\n",
    "                                  \"count\" :  5 ,\n",
    "                                  \"pos\"   : [ 8, 16 , 190, 429, 433]\n",
    "                                },\n",
    "                                { \"doc_id\" :  5 ,\n",
    "                                  \"count\" :  2 ,\n",
    "                                  \"pos\"   : [ 363, 367 ]\n",
    "                                },\n",
    "                                { \"doc_id\" :  7 ,\n",
    "                                  \"count\" :  3 ,\n",
    "                                  \"pos\"   : [ 13, 23, 191]\n",
    "                                }\n",
    "                             ]\n",
    "                            }\n",
    "\n",
    "docFreq_2 = { \"word\" : \"be\" , \"frequency\" : 178239,\n",
    "                              \"data\" : \n",
    "                             [ { \"doc_id\" :  1 ,\n",
    "                                  \"count\" :  2,\n",
    "                                  \"pos\"   : [ 17, 25]\n",
    "                                },\n",
    "                                { \"doc_id\" :  4 ,\n",
    "                                  \"count\" :  5 ,\n",
    "                                  \"pos\"   : [ 17, 191, 291, 430, 434]\n",
    "                                },\n",
    "                                { \"doc_id\" :  5 ,\n",
    "                                  \"count\" :  3 ,\n",
    "                                  \"pos\"   : [  14, 19, 101 ]\n",
    "                                }\n",
    "                             ]\n",
    "                            }"
   ]
  },
  {
   "cell_type": "markdown",
   "metadata": {},
   "source": [
    "### Algorithm"
   ]
  },
  {
   "cell_type": "markdown",
   "metadata": {},
   "source": [
    "<img src=\"2.12.jpg\" >"
   ]
  },
  {
   "cell_type": "code",
   "execution_count": 40,
   "metadata": {},
   "outputs": [
    {
     "name": "stdout",
     "output_type": "stream",
     "text": [
      "Answers : \n",
      "Document id : 1  Position Data 1:  18  Position Data 2 : 17\n",
      "Document id : 4  Position Data 1:  16  Position Data 2 : 17\n",
      "Document id : 4  Position Data 1:  190  Position Data 2 : 191\n",
      "Document id : 4  Position Data 1:  429  Position Data 2 : 430\n",
      "Document id : 4  Position Data 1:  433  Position Data 2 : 430\n",
      "Document id : 4  Position Data 1:  433  Position Data 2 : 430\n",
      "Document id : 4  Position Data 1:  433  Position Data 2 : 434\n"
     ]
    }
   ],
   "source": [
    "\n",
    "def positionalIntersect(doc_1, doc_2, k =1):\n",
    "    \n",
    "    answer = []                \n",
    "    data_1 = doc_1[\"data\"]\n",
    "    data_2 = doc_2[\"data\"]\n",
    "    \n",
    "    i = 0\n",
    "    j = 0\n",
    "\n",
    "    while ( i < len(data_1) and j < len(data_2)):\n",
    "        doc_id_1 = data_1[i][\"doc_id\"]\n",
    "        doc_id_2 = data_2[j][\"doc_id\"]\n",
    "        if ( doc_id_1 == doc_id_2):\n",
    "            pos_res = [] \n",
    "            pos_1 = data_1[i][\"pos\"]\n",
    "            pos_2 = data_2[j][\"pos\"]\n",
    "\n",
    "            k = 0\n",
    "            \n",
    "            while ( k < len(pos_1) ):\n",
    "                l = 0\n",
    "                while (l < len(pos_2)) :\n",
    "                    distance =  abs(pos_1[k] - pos_2[l])\n",
    "                    if ( distance <= k):\n",
    "                        pos_res.append(l)\n",
    "                    elif pos_2[l]  > pos_1[k]:\n",
    "                        break\n",
    "                    l = l + 1\n",
    "\n",
    "                for item in pos_res:\n",
    "                    distance =  abs(pos_2[item] - pos_1[k] )\n",
    "                    if distance > k :\n",
    "                        pos_res.remove(item)\n",
    "                for item in pos_res:\n",
    "                    answer.append({ \"doc_id\" : doc_id_1,  \"pos_data_1\" : pos_1[k]  ,  \"pos_data_2\" : pos_2[item] }  )\n",
    "                \n",
    "                k = k + 1\n",
    "\n",
    "            i = i + 1\n",
    "            j = j + 1\n",
    "        else:\n",
    "            if doc_id_1 < doc_id_2:\n",
    "                i = i + 1\n",
    "            else:\n",
    "                j = j + 1\n",
    "\n",
    "    return answer\n",
    "\n",
    "\n",
    "results = positionalIntersect(docFreq_1, docFreq_2, 4)\n",
    "print(\"Answers : \")\n",
    "for res in results:\n",
    "    print(\"Document id :\" , res[\"doc_id\"] ,  \" Position Data 1: \" , res[\"pos_data_1\" ], \" Position Data 2 :\", res[\"pos_data_2\" ])"
   ]
  },
  {
   "cell_type": "markdown",
   "metadata": {},
   "source": [
    "<br><br><br><br>"
   ]
  },
  {
   "cell_type": "markdown",
   "metadata": {},
   "source": [
    "University of Kurdistan information retreival course homework "
   ]
  },
  {
   "cell_type": "markdown",
   "metadata": {},
   "source": [
    "Aniran Mohammadpour"
   ]
  },
  {
   "cell_type": "markdown",
   "metadata": {},
   "source": [
    "UID: 9617023136"
   ]
  },
  {
   "cell_type": "markdown",
   "metadata": {},
   "source": [
    "Date: 4/24/2021"
   ]
  }
 ],
 "metadata": {
  "kernelspec": {
   "display_name": "Python 3",
   "language": "python",
   "name": "python3"
  },
  "language_info": {
   "codemirror_mode": {
    "name": "ipython",
    "version": 3
   },
   "file_extension": ".py",
   "mimetype": "text/x-python",
   "name": "python",
   "nbconvert_exporter": "python",
   "pygments_lexer": "ipython3",
   "version": "3.8.5"
  }
 },
 "nbformat": 4,
 "nbformat_minor": 4
}
